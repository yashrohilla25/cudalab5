{
  "nbformat": 4,
  "nbformat_minor": 0,
  "metadata": {
    "colab": {
      "provenance": [],
      "gpuType": "T4",
      "authorship_tag": "ABX9TyMCH3GKDCgTSUjWSvOkLXJV",
      "include_colab_link": true
    },
    "kernelspec": {
      "name": "python3",
      "display_name": "Python 3"
    },
    "language_info": {
      "name": "python"
    },
    "accelerator": "GPU"
  },
  "cells": [
    {
      "cell_type": "markdown",
      "metadata": {
        "id": "view-in-github",
        "colab_type": "text"
      },
      "source": [
        "<a href=\"https://colab.research.google.com/github/yashrohilla25/cudalab5/blob/main/parallelab5.ipynb\" target=\"_parent\"><img src=\"https://colab.research.google.com/assets/colab-badge.svg\" alt=\"Open In Colab\"/></a>"
      ]
    },
    {
      "cell_type": "code",
      "execution_count": 7,
      "metadata": {
        "colab": {
          "base_uri": "https://localhost:8080/"
        },
        "id": "Pu_6SwNJz96Y",
        "outputId": "d884e40e-33c4-4a66-957e-1e58f6f390c7"
      },
      "outputs": [
        {
          "output_type": "stream",
          "name": "stdout",
          "text": [
            "Overwriting vector_add_static.cu\n"
          ]
        }
      ],
      "source": [
        "%%writefile vector_add_static.cu\n",
        "\n",
        "#include <stdio.h>\n",
        "#include <cuda.h>\n",
        "\n",
        "#define N 1024 * 1024 // 1M elements\n",
        "\n",
        "// 1.1 Static global memory (symbol memory)\n",
        "__device__ float d_A[N];\n",
        "__device__ float d_B[N];\n",
        "__device__ float d_C[N];\n",
        "\n",
        "__global__ void vectorAdd() {\n",
        "    int i = blockIdx.x * blockDim.x + threadIdx.x;\n",
        "    if (i < N)\n",
        "        d_C[i] = d_A[i] + d_B[i];\n",
        "}\n",
        "\n",
        "// Host arrays\n",
        "float h_A[N], h_B[N], h_C[N];\n",
        "\n",
        "int main() {\n",
        "    // Initialize input vectors\n",
        "    for (int i = 0; i < N; i++) {\n",
        "        h_A[i] = 1.0f;\n",
        "        h_B[i] = 2.0f;\n",
        "    }\n",
        "\n",
        "    // Copy data from host to device symbols\n",
        "    cudaMemcpyToSymbol(d_A, h_A, sizeof(float) * N);\n",
        "    cudaMemcpyToSymbol(d_B, h_B, sizeof(float) * N);\n",
        "\n",
        "    // Timing the kernel execution\n",
        "    cudaEvent_t start, stop;\n",
        "    float milliseconds = 0;\n",
        "    cudaEventCreate(&start);\n",
        "    cudaEventCreate(&stop);\n",
        "    cudaEventRecord(start);\n",
        "\n",
        "    // Launch kernel\n",
        "    int blockSize = 256;\n",
        "    int numBlocks = (N + blockSize - 1) / blockSize;\n",
        "    vectorAdd<<<numBlocks, blockSize>>>();\n",
        "\n",
        "    cudaEventRecord(stop);\n",
        "    cudaEventSynchronize(stop);\n",
        "    cudaEventElapsedTime(&milliseconds, start, stop);\n",
        "\n",
        "    // Copy result from device to host\n",
        "    cudaMemcpyFromSymbol(h_C, d_C, sizeof(float) * N);\n",
        "\n",
        "    // 1.2 Print time in ms\n",
        "    printf(\"Kernel Execution Time: %f ms\\n\", milliseconds);\n",
        "\n",
        "    // 1.3 Query device properties\n",
        "    cudaDeviceProp prop;\n",
        "    cudaGetDeviceProperties(&prop, 0);\n",
        "    float memClock = prop.memoryClockRate;    // kHz\n",
        "    float memBusWidth = prop.memoryBusWidth;  // bits\n",
        "\n",
        "    // Calculate theoretical bandwidth (GB/s)\n",
        "    float theoreticalBW = 2.0 * memClock * memBusWidth / 8.0 / 1e6;\n",
        "    printf(\"Theoretical Bandwidth: %f GB/s\\n\", theoreticalBW);\n",
        "\n",
        "    // 1.4 Calculate measured bandwidth\n",
        "    float RBytes = 2 * N * sizeof(float); // Read A and B\n",
        "    float WBytes = N * sizeof(float);     // Write C\n",
        "    float timeSec = milliseconds / 1000.0;\n",
        "    float measuredBW = (RBytes + WBytes) / (timeSec * 1e9);\n",
        "    printf(\"Measured Bandwidth: %f GB/s\\n\", measuredBW);\n",
        "\n",
        "    return 0;\n",
        "}\n"
      ]
    },
    {
      "cell_type": "code",
      "source": [
        "!nvcc -o vector_add_static vector_add_static.cu\n"
      ],
      "metadata": {
        "id": "eLX47m0y0QCF"
      },
      "execution_count": 8,
      "outputs": []
    },
    {
      "cell_type": "code",
      "source": [
        "!nvprof ./vector_add_static\n"
      ],
      "metadata": {
        "colab": {
          "base_uri": "https://localhost:8080/"
        },
        "id": "loDpFBOZ0SMX",
        "outputId": "44dc99bc-903a-4df0-cefc-a1ec8a82cde3"
      },
      "execution_count": 6,
      "outputs": [
        {
          "output_type": "stream",
          "name": "stdout",
          "text": [
            "==494== NVPROF is profiling process 494, command: ./vector_add_static\n",
            "Kernel Execution Time: 0.027616 ms\n",
            "Theoretical Bandwidth: 320.063995 GB/s\n",
            "Measured Bandwidth: 455.638489 GB/s\n",
            "==494== Profiling application: ./vector_add_static\n",
            "==494== Profiling result:\n",
            "No kernels were profiled.\n",
            "            Type  Time(%)      Time     Calls       Avg       Min       Max  Name\n",
            "      API calls:   99.84%  204.41ms         2  102.21ms  4.5270us  204.41ms  cudaMemcpyToSymbol\n",
            "                    0.07%  134.04us       114  1.1750us     106ns  55.077us  cuDeviceGetAttribute\n",
            "                    0.06%  130.80us         1  130.80us  130.80us  130.80us  cudaGetDeviceProperties\n",
            "                    0.01%  14.536us         2  7.2680us  2.6200us  11.916us  cudaEventRecord\n",
            "                    0.01%  11.311us         2  5.6550us     716ns  10.595us  cudaEventCreate\n",
            "                    0.01%  11.093us         1  11.093us  11.093us  11.093us  cuDeviceGetName\n",
            "                    0.00%  6.5380us         1  6.5380us  6.5380us  6.5380us  cudaEventSynchronize\n",
            "                    0.00%  5.0160us         1  5.0160us  5.0160us  5.0160us  cuDeviceGetPCIBusId\n",
            "                    0.00%  2.6900us         1  2.6900us  2.6900us  2.6900us  cudaMemcpyFromSymbol\n",
            "                    0.00%  1.9470us         1  1.9470us  1.9470us  1.9470us  cudaEventElapsedTime\n",
            "                    0.00%  1.6220us         1  1.6220us  1.6220us  1.6220us  cudaLaunchKernel\n",
            "                    0.00%  1.3840us         3     461ns     130ns  1.0330us  cuDeviceGetCount\n",
            "                    0.00%  1.0060us         1  1.0060us  1.0060us  1.0060us  cuModuleGetLoadingMode\n",
            "                    0.00%     742ns         2     371ns     166ns     576ns  cuDeviceGet\n",
            "                    0.00%     413ns         1     413ns     413ns     413ns  cuDeviceTotalMem\n",
            "                    0.00%     200ns         1     200ns     200ns     200ns  cuDeviceGetUuid\n"
          ]
        }
      ]
    },
    {
      "cell_type": "markdown",
      "source": [
        "// extra codes for understanding basic codes\n"
      ],
      "metadata": {
        "id": "1nPiA0bs0jHn"
      }
    },
    {
      "cell_type": "code",
      "source": [
        "code = \"\"\"\n",
        "#include <iostream>\n",
        "#include <vector>\n",
        "#include <chrono>\n",
        "#include <cstdlib>\n",
        "\n",
        "int main() {\n",
        "    const int N = 1 << 20; // 1 million elements\n",
        "    std::vector<float> A(N), B(N), C(N);\n",
        "\n",
        "    // Initialize vectors\n",
        "    for (int i = 0; i < N; ++i) {\n",
        "        A[i] = static_cast<float>(rand()) / RAND_MAX;\n",
        "        B[i] = static_cast<float>(rand()) / RAND_MAX;\n",
        "    }\n",
        "\n",
        "    auto start = std::chrono::high_resolution_clock::now();\n",
        "\n",
        "    // Vector addition\n",
        "    for (int i = 0; i < N; ++i) {\n",
        "        C[i] = A[i] + B[i];\n",
        "    }\n",
        "\n",
        "    auto end = std::chrono::high_resolution_clock::now();\n",
        "    std::chrono::duration<double, std::milli> elapsed = end - start;\n",
        "\n",
        "    std::cout << \"Serial execution time: \" << elapsed.count() << \" ms\\\\n\";\n",
        "\n",
        "    std::cout << \"Sample Result (First 10 elements):\\\\n\";\n",
        "    for (int i = 0; i < 10; ++i) {\n",
        "        std::cout << C[i] << \" \";\n",
        "    }\n",
        "    std::cout << std::endl;\n",
        "\n",
        "    return 0;\n",
        "}\n",
        "\"\"\"\n",
        "\n",
        "# Save to a .cpp file\n",
        "with open(\"serial_vector_add.cpp\", \"w\") as f:\n",
        "    f.write(code)\n",
        "\n",
        "# Compile and run\n",
        "!g++ serial_vector_add.cpp -o serial_vector_add\n",
        "!./serial_vector_add\n"
      ],
      "metadata": {
        "id": "4FHUe0JUNOts",
        "colab": {
          "base_uri": "https://localhost:8080/"
        },
        "outputId": "3e83c69a-79cc-432c-d710-32f5691e68b9"
      },
      "execution_count": 11,
      "outputs": [
        {
          "output_type": "stream",
          "name": "stdout",
          "text": [
            "Serial execution time: 8.1395 ms\n",
            "Sample Result (First 10 elements):\n",
            "1.23457 1.58154 1.1092 1.10345 0.831745 1.10627 0.878185 1.86842 1.35301 0.748571 \n"
          ]
        }
      ]
    },
    {
      "cell_type": "code",
      "source": [
        "%%writefile vector_add.cu\n",
        "#include <iostream>\n",
        "#include <cuda_runtime.h>\n",
        "#include <cstdlib>\n",
        "\n",
        "__global__ void vectorAdd(const float* A, const float* B, float* C, int N) {\n",
        "    int i = blockIdx.x * blockDim.x + threadIdx.x;\n",
        "    if (i < N)\n",
        "        C[i] = A[i] + B[i];\n",
        "}\n",
        "\n",
        "int main() {\n",
        "    const int N = 1 << 20;\n",
        "    size_t size = N * sizeof(float);\n",
        "\n",
        "    // Allocate host memory\n",
        "    float *h_A = new float[N];\n",
        "    float *h_B = new float[N];\n",
        "    float *h_C = new float[N];\n",
        "\n",
        "    // Initialize input vectors\n",
        "    for (int i = 0; i < N; ++i) {\n",
        "        h_A[i] = static_cast<float>(rand()) / RAND_MAX;\n",
        "        h_B[i] = static_cast<float>(rand()) / RAND_MAX;\n",
        "    }\n",
        "\n",
        "    // Allocate device memory\n",
        "    float *d_A, *d_B, *d_C;\n",
        "    cudaMalloc(&d_A, size);\n",
        "    cudaMalloc(&d_B, size);\n",
        "    cudaMalloc(&d_C, size);\n",
        "\n",
        "    // Copy input vectors to device\n",
        "    cudaMemcpy(d_A, h_A, size, cudaMemcpyHostToDevice);\n",
        "    cudaMemcpy(d_B, h_B, size, cudaMemcpyHostToDevice);\n",
        "\n",
        "    // Time measurement\n",
        "    cudaEvent_t start, stop;\n",
        "    cudaEventCreate(&start);\n",
        "    cudaEventCreate(&stop);\n",
        "    cudaEventRecord(start);\n",
        "\n",
        "    // Launch kernel\n",
        "    int threadsPerBlock = 256;\n",
        "    int blocksPerGrid = (N + threadsPerBlock - 1) / threadsPerBlock;\n",
        "    vectorAdd<<<blocksPerGrid, threadsPerBlock>>>(d_A, d_B, d_C, N);\n",
        "    cudaDeviceSynchronize();\n",
        "\n",
        "    cudaEventRecord(stop);\n",
        "    cudaEventSynchronize(stop);\n",
        "    float milliseconds = 0;\n",
        "    cudaEventElapsedTime(&milliseconds, start, stop);\n",
        "\n",
        "    // Copy result back to host\n",
        "    cudaMemcpy(h_C, d_C, size, cudaMemcpyDeviceToHost);\n",
        "\n",
        "    std::cout << \"CUDA execution time: \" << milliseconds << \" ms\\\\n\";\n",
        "\n",
        "    std::cout << \"Sample Result (First 10 elements):\\\\n\";\n",
        "    for (int i = 0; i < 10; ++i) {\n",
        "        std::cout << h_C[i] << \" \";\n",
        "    }\n",
        "    std::cout << std::endl;\n",
        "\n",
        "    // Free memory\n",
        "    delete[] h_A;\n",
        "    delete[] h_B;\n",
        "    delete[] h_C;\n",
        "    cudaFree(d_A);\n",
        "    cudaFree(d_B);\n",
        "    cudaFree(d_C);\n",
        "\n",
        "    return 0;\n",
        "}\n"
      ],
      "metadata": {
        "colab": {
          "base_uri": "https://localhost:8080/"
        },
        "id": "io4kFgKKO3fr",
        "outputId": "904cc5fc-6339-4e56-a023-a8e3460af8f0"
      },
      "execution_count": 12,
      "outputs": [
        {
          "output_type": "stream",
          "name": "stdout",
          "text": [
            "Writing vector_add.cu\n"
          ]
        }
      ]
    },
    {
      "cell_type": "code",
      "source": [
        "!nvcc   vector_add.cu -o vector_add -arch=sm_75\n",
        "!./vector_add\n"
      ],
      "metadata": {
        "colab": {
          "base_uri": "https://localhost:8080/"
        },
        "id": "AjkpShYZPBCZ",
        "outputId": "9a4e33ea-229f-41dd-b4c3-33a882b56efb"
      },
      "execution_count": 13,
      "outputs": [
        {
          "output_type": "stream",
          "name": "stdout",
          "text": [
            "CUDA execution time: 0.152864 ms\\nSample Result (First 10 elements):\\n1.23457 1.58154 1.1092 1.10345 0.831745 1.10627 0.878185 1.86842 1.35301 0.748571 \n"
          ]
        }
      ]
    }
  ]
}